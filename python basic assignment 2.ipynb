{
 "cells": [
  {
   "cell_type": "raw",
   "id": "395b6d8d",
   "metadata": {},
   "source": []
  },
  {
   "cell_type": "code",
   "execution_count": null,
   "id": "3e9dd514",
   "metadata": {},
   "outputs": [],
   "source": [
    "1. What are the two values of the Boolean data type? How do you write them?\n",
    "    \n",
    "    values of the Boolean data type are true(1) and false(0). \n",
    "    They can be written as TRUE and FALSE respectively\n",
    "    "
   ]
  },
  {
   "cell_type": "code",
   "execution_count": null,
   "id": "dcfdf12f",
   "metadata": {},
   "outputs": [],
   "source": [
    "2. What are the three different types of Boolean operators?\n",
    "    \n",
    "    They are:\n",
    "        1. AND\n",
    "        2. OR\n",
    "        3. NOT"
   ]
  },
  {
   "cell_type": "code",
   "execution_count": null,
   "id": "152a20a9",
   "metadata": {},
   "outputs": [],
   "source": [
    "3. Make a list of each Boolean operator's truth tables \n",
    "   (i.e. every possible combination of Boolean values for the operator and what it evaluate ).\n",
    "    \n",
    "    \n",
    "    AND Truth Table:\n",
    "        \n",
    "        A   B   Y\n",
    "        0   0   0\n",
    "        0   1   0\n",
    "        1   0   0\n",
    "        1   1   1\n",
    "        \n",
    "    OR Truth Table:\n",
    "        \n",
    "        A   B   Y\n",
    "        0   0   0\n",
    "        0   1   1\n",
    "        1   0   1\n",
    "        1   1   1\n",
    "        \n",
    "    Not Truth Table:\n",
    "        \n",
    "        A   Y\n",
    "        0   1   \n",
    "        1   0  "
   ]
  },
  {
   "cell_type": "code",
   "execution_count": null,
   "id": "b48208fb",
   "metadata": {},
   "outputs": [],
   "source": [
    "4. What are the values of the following expressions?\n",
    "    \n",
    "    1.(5 > 4) and (3 == 5) value is False\n",
    "    \n",
    "    2.not (5 > 4) value is False\n",
    "    \n",
    "    3.(5 > 4) or (3 == 5) value is True\n",
    "    \n",
    "    4.not ((5 > 4) or (3 == 5)) value is False\n",
    "    \n",
    "    5.(True and True) and (True == False) value is False\n",
    "    \n",
    "    6.(not False) or (not True) value is True\n"
   ]
  },
  {
   "cell_type": "code",
   "execution_count": null,
   "id": "3b09f53b",
   "metadata": {},
   "outputs": [],
   "source": [
    "5. What are the six comparison operators?\n",
    "    \n",
    "    1. >(greater than)\n",
    "    2. <(less than)\n",
    "    3. >=(greater than or equal to)\n",
    "    4. <=(lesser than or equal to)\n",
    "    5. !=(not equal to)\n",
    "    6. ==(equal to)\n",
    "    "
   ]
  },
  {
   "cell_type": "code",
   "execution_count": null,
   "id": "b9b82e21",
   "metadata": {},
   "outputs": [],
   "source": [
    "6. How do you tell the difference between the equal to and assignment operators?\n",
    "   Describe a condition and when you would use one.\n",
    "    \n",
    "    EQUAL TO:\n",
    "    \n",
    "    equal to == is used to check the given two operand is equal or not.\n",
    "    if you want to check two operand or variable are equal,you can use equal to operator.\n",
    "    EX: 10==9\n",
    "        \n",
    "    assignment operators:\n",
    "    \n",
    "    assignment operator is used to assign value on right side of variable to the variable. used to assign value.\n",
    "    if you want to assign value to a variable you can use assignment operator. \n",
    "    EX : AGE=21\n",
    "    "
   ]
  },
  {
   "cell_type": "code",
   "execution_count": null,
   "id": "a8a85357",
   "metadata": {},
   "outputs": [],
   "source": [
    "7. Identify the three blocks in this code:\n",
    "\n",
    "spam = 0\n",
    "if spam == 10:   => block 1\n",
    "print('eggs')\n",
    "if spam > 5:     => block 2\n",
    "print('bacon')\n",
    "else:            => block 3\n",
    "print('ham')\n",
    "print('spam')\n",
    "print('spam')\n"
   ]
  },
  {
   "cell_type": "code",
   "execution_count": null,
   "id": "6d37980d",
   "metadata": {},
   "outputs": [],
   "source": [
    "8. Write code that prints Hello if 1 is stored in spam, prints Howdy if 2 is stored in spam, \n",
    "   and prints Greetings! if anything else is stored in spam.\n",
    "    \n",
    "    if spam==1:\n",
    "        print(\"Hello\")\n",
    "    elif spam==2:\n",
    "        print(\"Howdy\")\n",
    "    else:\n",
    "        print(\"Greetings!\")"
   ]
  },
  {
   "cell_type": "code",
   "execution_count": null,
   "id": "e89df541",
   "metadata": {},
   "outputs": [],
   "source": [
    "9. If your programme is stuck in an endless loop, what keys you’ll press?\n",
    "\n",
    "    if your programme is stuck in an endless loop,we need to interrupt loop manually by pressing ctrl+c key to terminate \n",
    "    from the loop or click interrupt the kernal button in jupyter notebook."
   ]
  },
  {
   "cell_type": "code",
   "execution_count": null,
   "id": "97e74a80",
   "metadata": {},
   "outputs": [],
   "source": [
    "10. How can you tell the difference between break and continue?\n",
    "\n",
    "    break :\n",
    "        It terminates the execution of current loop and control goes to next line after loop.\n",
    "        \n",
    "    continue :\n",
    "        continue statement skips the remaining lines of code inside the loop and start with next iteration .\n",
    "        it brings the control to the beginning of the loop"
   ]
  },
  {
   "cell_type": "code",
   "execution_count": null,
   "id": "550d23e4",
   "metadata": {},
   "outputs": [],
   "source": [
    "11. In a for loop, what is the difference between range(10), range(0, 10), and range(0, 10, 1)?\n",
    "\n",
    "    range(10) => here u can mention only the stop value\n",
    "    \n",
    "    range(0, 10) => here u can mention start and stop value.\n",
    "    \n",
    "    range(0, 10, 1) => here u can mention start , stop and step size value.\n",
    "    \n",
    "    In a for loop all the given function gives same value."
   ]
  },
  {
   "cell_type": "code",
   "execution_count": null,
   "id": "acd9e4c9",
   "metadata": {},
   "outputs": [],
   "source": [
    "12. Write a short program that prints the numbers 1 to 10 using a for loop. \n",
    "    Then write an equivalent program that prints the numbers 1 to 10 using a while loop\n",
    "    \n",
    "    FOR LOOP:\n",
    "        \n",
    "    for i in range(1,11):\n",
    "        print(i)\n",
    "        \n",
    "    While Loop:\n",
    "        \n",
    "    i=1\n",
    "    while i<11:\n",
    "        print(i)\n",
    "        i=i+1"
   ]
  },
  {
   "cell_type": "code",
   "execution_count": null,
   "id": "243425b4",
   "metadata": {},
   "outputs": [],
   "source": [
    "13. If you had a function named bacon() inside a module named spam, how would you call it after importing spam?\n",
    "\n",
    "    you can call it by using the dot operator(.)\n",
    "\n",
    "    import spam\n",
    "    \n",
    "    spam.bacon()"
   ]
  }
 ],
 "metadata": {
  "kernelspec": {
   "display_name": "Python 3",
   "language": "python",
   "name": "python3"
  },
  "language_info": {
   "codemirror_mode": {
    "name": "ipython",
    "version": 3
   },
   "file_extension": ".py",
   "mimetype": "text/x-python",
   "name": "python",
   "nbconvert_exporter": "python",
   "pygments_lexer": "ipython3",
   "version": "3.8.8"
  }
 },
 "nbformat": 4,
 "nbformat_minor": 5
}
