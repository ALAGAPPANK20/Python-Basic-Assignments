{
 "cells": [
  {
   "cell_type": "raw",
   "id": "12058e86",
   "metadata": {},
   "source": [
    "1. Why are functions advantageous to have in your programs?\n",
    "     \n",
    "    It avoid repetition of code. it makes complex code simpler. we can modify a program easily , it reduce the chances of error\n",
    "    This makes programs shorter, easier to read, and easier to update."
   ]
  },
  {
   "cell_type": "code",
   "execution_count": null,
   "id": "a811c1a3",
   "metadata": {},
   "outputs": [],
   "source": [
    "2. When does the code in a function run: when it's specified or when it's called?\n",
    "    \n",
    "    The code in a function is executed when the function is called. and not when the function is specified."
   ]
  },
  {
   "cell_type": "raw",
   "id": "64b1eb0c",
   "metadata": {},
   "source": [
    "3. What statement creates a function?\n",
    "    \n",
    "    The \"def\" keyword is a statement used for defining a function\n",
    "    \n",
    "Syntax:\n",
    "  def func_name(parameters):          \n",
    "    -----code-----\n",
    "    -----code-----\n",
    "    return value"
   ]
  },
  {
   "cell_type": "code",
   "execution_count": null,
   "id": "a65108f3",
   "metadata": {},
   "outputs": [],
   "source": [
    "4. What is the difference between a function and a function call?\n",
    "\n",
    "    A function is a block of code used to achieve a particular result. while function call is using this function to achive that task. \n",
    "    TO execute a function we must call it . where as Using a function to do a particular task any point in program is called as function call."
   ]
  },
  {
   "cell_type": "code",
   "execution_count": null,
   "id": "049cd3dd",
   "metadata": {},
   "outputs": [],
   "source": [
    "5. How many global scopes are there in a Python program? How many local scopes?\n",
    "    \n",
    "    There is one global scope, and a local scope is created whenever a function is called. variable avaliable inside function are \n",
    "    local scope"
   ]
  },
  {
   "cell_type": "code",
   "execution_count": null,
   "id": "6535a382",
   "metadata": {},
   "outputs": [],
   "source": [
    "6. What happens to variables in a local scope when the function call returns?\n",
    "\n",
    "    When a function returns a value , all the  local scope is in a function destroyed, and \n",
    "    all the variables are erased."
   ]
  },
  {
   "cell_type": "code",
   "execution_count": null,
   "id": "ec9228f0",
   "metadata": {},
   "outputs": [],
   "source": [
    "7. What is the concept of a return value? Is it possible to have a return value in an expression?\n",
    "\n",
    "    A return value is the value that a function returns to calling function when it complete it task. Like any value, \n",
    "    a return value can be used as part of an expression."
   ]
  },
  {
   "cell_type": "code",
   "execution_count": null,
   "id": "e715e35a",
   "metadata": {},
   "outputs": [],
   "source": [
    "8. If a function does not have a return statement, what is the return value of a call to that function?\n",
    "\n",
    "    If there is no return statement for a function, it should return a none type ."
   ]
  },
  {
   "cell_type": "code",
   "execution_count": null,
   "id": "b66363fa",
   "metadata": {},
   "outputs": [],
   "source": [
    "9. How do you make a function variable refer to the global variable?\n",
    "\n",
    "    if you use a global keyword , function variable refers to global scope . now you can make a function variable refer to \n",
    "    the global variable \n",
    "        "
   ]
  },
  {
   "cell_type": "code",
   "execution_count": null,
   "id": "a0cb1a9b",
   "metadata": {},
   "outputs": [],
   "source": [
    "10. What is the data type of None?\n",
    "     \n",
    "    The data type of None is NoneType."
   ]
  },
  {
   "cell_type": "code",
   "execution_count": null,
   "id": "3cc5dbed",
   "metadata": {},
   "outputs": [],
   "source": [
    "11. What does the sentence import areallyourpetsnamederic do?\n",
    "\n",
    "    This import statement imports a module named areallyourpetsnamederic."
   ]
  },
  {
   "cell_type": "code",
   "execution_count": null,
   "id": "3783f100",
   "metadata": {},
   "outputs": [],
   "source": [
    "12. If you had a bacon() feature in a spam module, what would you call it after importing spam?\n",
    "\n",
    "    it can be called by,\n",
    "    \n",
    "    import spam\n",
    "    spam.bacon()"
   ]
  },
  {
   "cell_type": "code",
   "execution_count": null,
   "id": "74563d5d",
   "metadata": {},
   "outputs": [],
   "source": [
    "13. What can you do to save a programme from crashing if it encounters an error?\n",
    "\n",
    "    use try and except block to save a code ,Place the line of code that might cause an error in a try block and \n",
    "    use except block to handle the error."
   ]
  },
  {
   "cell_type": "code",
   "execution_count": null,
   "id": "626dfe3c",
   "metadata": {},
   "outputs": [],
   "source": [
    "14. What is the purpose of the try clause? What is the purpose of the except clause?\n",
    "        The code that cause an error goes in the try clause. \n",
    "         and The code that should executes if an error happens goes in the except clause"
   ]
  }
 ],
 "metadata": {
  "kernelspec": {
   "display_name": "Python 3",
   "language": "python",
   "name": "python3"
  },
  "language_info": {
   "codemirror_mode": {
    "name": "ipython",
    "version": 3
   },
   "file_extension": ".py",
   "mimetype": "text/x-python",
   "name": "python",
   "nbconvert_exporter": "python",
   "pygments_lexer": "ipython3",
   "version": "3.8.8"
  }
 },
 "nbformat": 4,
 "nbformat_minor": 5
}
