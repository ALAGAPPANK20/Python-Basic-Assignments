{
 "cells": [
  {
   "cell_type": "raw",
   "id": "3bb2c9cc",
   "metadata": {},
   "source": [
    "    Assignment:"
   ]
  },
  {
   "cell_type": "code",
   "execution_count": null,
   "id": "44fe7226",
   "metadata": {},
   "outputs": [],
   "source": [
    "1. In the below elements which of them are values or an expression? eg:- values can be integer or string and expressions will \n",
    "   be mathematical operators.\n",
    "\n",
    "    Values :  'hello' , -87.8 , 6\n",
    "\n",
    "    Expression : + , * , - , /"
   ]
  },
  {
   "cell_type": "code",
   "execution_count": null,
   "id": "d0e24e39",
   "metadata": {},
   "outputs": [],
   "source": [
    "2. What is the difference between string and variable?\n",
    "\n",
    "    String : String is the sequence of characters , enclosed in double quotes. Ex : \"i am working\" .\n",
    "        \n",
    "    Variable : variables are used to store value in a program and it is a reference to object. Ex : Name=\"Arun\"."
   ]
  },
  {
   "cell_type": "code",
   "execution_count": null,
   "id": "4465be3e",
   "metadata": {},
   "outputs": [],
   "source": [
    "3. Describe three different data types.\n",
    "\n",
    "    1. Int : Integer is a data type that represent whole number without fraction they are zero ,positive \n",
    "             and negative whole number. Ex:0,-1,5..etc\n",
    "        \n",
    "    2.String : String is the sequence of characters , enclosed in double quotes. Ex : \"i am playing\" .\n",
    "            \n",
    "    3.float : float data type is used to represent the floating point number or decimal number(number with decimal point)\n",
    "              Ex : 12.5"
   ]
  },
  {
   "cell_type": "code",
   "execution_count": null,
   "id": "1e3791d7",
   "metadata": {},
   "outputs": [],
   "source": [
    "4. What is an expression made up of? What do all expressions do?\n",
    "\n",
    "    Expression is made up of combination of variable , operand and the operator.\n",
    "    \n",
    "    it is always evaluated down to single value.\n",
    "    \n",
    "    Ex : c= 2*2+5/2"
   ]
  },
  {
   "cell_type": "code",
   "execution_count": null,
   "id": "e73139a7",
   "metadata": {},
   "outputs": [],
   "source": [
    "5. This assignment statements, like spam = 10. What is the difference between an expression and a statement?\n",
    "\n",
    "    Statement : statement is an instruction that a compiler can execute. it perform some action.\n",
    "        EX : name = input(\"enter name\")\n",
    "        \n",
    "    Expression : Expression is made up of combination of variable , operand and the operator.\n",
    "        Ex : z=7*2+5\n",
    "    \n",
    "    "
   ]
  },
  {
   "cell_type": "raw",
   "id": "1a010339",
   "metadata": {},
   "source": [
    "    "
   ]
  },
  {
   "cell_type": "code",
   "execution_count": null,
   "id": "90b137b2",
   "metadata": {},
   "outputs": [],
   "source": [
    "6. After running the following code, what does the variable bacon contain?\n",
    "    bacon = 22\n",
    "    bacon + 1    \n",
    "    \n",
    "    The variable bacon still contain 22 , because value is not updated."
   ]
  },
  {
   "cell_type": "code",
   "execution_count": null,
   "id": "de37614d",
   "metadata": {},
   "outputs": [],
   "source": [
    "7. What should the values of the following two terms be?\n",
    "'spam' + 'spamspam'\n",
    "'spam' * 3\n",
    "\n",
    "ANS    1. 'spamspamspam'\n",
    "       2. 'spamspamspam'"
   ]
  },
  {
   "cell_type": "code",
   "execution_count": null,
   "id": "81c2043a",
   "metadata": {},
   "outputs": [],
   "source": [
    "8. Why is eggs a valid variable name while 100 is invalid?\n",
    "\n",
    "    Variable name should start with letter so, eggs is a valid variable name. but 100 is invalid because, it is an integer and \n",
    "    \n",
    "    variable name should not start with integer.. \n"
   ]
  },
  {
   "cell_type": "code",
   "execution_count": null,
   "id": "d10e4db6",
   "metadata": {},
   "outputs": [],
   "source": [
    "9. What three functions can be used to get the integer, floating-point number, or string version of a value?\n",
    "    \n",
    "    int_num=int(input())\n",
    "    \n",
    "    float_num=float(input())\n",
    "    \n",
    "    str_ing=input()"
   ]
  },
  {
   "cell_type": "code",
   "execution_count": null,
   "id": "24f3a8dc",
   "metadata": {},
   "outputs": [],
   "source": [
    "10. Why does this expression cause an error? How can you fix it?\n",
    "'I have eaten ' + 99 + ' burritos.'\n",
    "\n",
    "    This expression cause an error because, String cannot concatenated to integer . so it can be fixed by using String.\n",
    "    \n",
    "    'I have eaten ' + '99' + ' burritos.' . so now it works...\n"
   ]
  }
 ],
 "metadata": {
  "kernelspec": {
   "display_name": "Python 3",
   "language": "python",
   "name": "python3"
  },
  "language_info": {
   "codemirror_mode": {
    "name": "ipython",
    "version": 3
   },
   "file_extension": ".py",
   "mimetype": "text/x-python",
   "name": "python",
   "nbconvert_exporter": "python",
   "pygments_lexer": "ipython3",
   "version": "3.8.8"
  }
 },
 "nbformat": 4,
 "nbformat_minor": 5
}
